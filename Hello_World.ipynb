{
 "cells": [
  {
   "cell_type": "markdown",
   "metadata": {},
   "source": [
    "# Instructions - Hello World!\n",
    "One of the classic programming activities for any new language is the \"Hello World!\" code.  The history of this iconinc program goes back to the early days of the C programming language and may be found [here](https://en.wikipedia.org/wiki/%22Hello,_World!%22_program).\n",
    "\n",
    "Being new Python programmers, it is time to take that step and write your own \"Hello World!\" program."
   ]
  },
  {
   "cell_type": "code",
   "execution_count": null,
   "metadata": {},
   "outputs": [],
   "source": [
    "print() #fill in the parenthesis with the correct code to print \"Hello World!\""
   ]
  }
 ],
 "metadata": {
  "kernelspec": {
   "display_name": "Python 3",
   "language": "python",
   "name": "python3"
  },
  "language_info": {
   "codemirror_mode": {
    "name": "ipython",
    "version": 3
   },
   "file_extension": ".py",
   "mimetype": "text/x-python",
   "name": "python",
   "nbconvert_exporter": "python",
   "pygments_lexer": "ipython3",
   "version": "3.7.3"
  }
 },
 "nbformat": 4,
 "nbformat_minor": 4
}
